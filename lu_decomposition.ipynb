{
  "nbformat": 4,
  "nbformat_minor": 0,
  "metadata": {
    "colab": {
      "provenance": [],
      "authorship_tag": "ABX9TyNGur7tE/fvS0jjJt3+4P0y",
      "include_colab_link": true
    },
    "kernelspec": {
      "name": "python3",
      "display_name": "Python 3"
    },
    "language_info": {
      "name": "python"
    }
  },
  "cells": [
    {
      "cell_type": "markdown",
      "metadata": {
        "id": "view-in-github",
        "colab_type": "text"
      },
      "source": [
        "<a href=\"https://colab.research.google.com/github/newmantic/lu_decomposition/blob/main/lu_decomposition.ipynb\" target=\"_parent\"><img src=\"https://colab.research.google.com/assets/colab-badge.svg\" alt=\"Open In Colab\"/></a>"
      ]
    },
    {
      "cell_type": "code",
      "execution_count": 1,
      "metadata": {
        "colab": {
          "base_uri": "https://localhost:8080/"
        },
        "id": "OHkQKBPuq46w",
        "outputId": "0c5d9bd9-d0b1-4fdb-d6a8-b2863dbc495c"
      },
      "outputs": [
        {
          "output_type": "stream",
          "name": "stdout",
          "text": [
            "Matrix L:\n",
            "[[ 1.  0.  0.]\n",
            " [-2.  1.  0.]\n",
            " [-2. -1.  1.]]\n",
            "Matrix U:\n",
            "[[ 2. -1. -2.]\n",
            " [ 0.  4. -1.]\n",
            " [ 0.  0.  3.]]\n",
            "Reconstructed Matrix A:\n",
            "[[ 2. -1. -2.]\n",
            " [-4.  6.  3.]\n",
            " [-4. -2.  8.]]\n"
          ]
        }
      ],
      "source": [
        "import numpy as np\n",
        "\n",
        "def lu_decomposition(A):\n",
        "    \"\"\"\n",
        "    Perform LU decomposition of a matrix A using Doolittle's method.\n",
        "\n",
        "    Parameters:\n",
        "    A (np.ndarray): The input matrix of shape (n, n).\n",
        "\n",
        "    Returns:\n",
        "    tuple: L (np.ndarray), U (np.ndarray) where A = L * U.\n",
        "    \"\"\"\n",
        "    n = A.shape[0]\n",
        "    L = np.zeros((n, n))\n",
        "    U = np.zeros((n, n))\n",
        "\n",
        "    for i in range(n):\n",
        "        # Upper triangular matrix U\n",
        "        for k in range(i, n):\n",
        "            sum_u = sum(L[i][j] * U[j][k] for j in range(i))\n",
        "            U[i][k] = A[i][k] - sum_u\n",
        "\n",
        "        # Lower triangular matrix L\n",
        "        for k in range(i, n):\n",
        "            if i == k:\n",
        "                L[i][i] = 1  # Diagonal as 1\n",
        "            else:\n",
        "                sum_l = sum(L[k][j] * U[j][i] for j in range(i))\n",
        "                L[k][i] = (A[k][i] - sum_l) / U[i][i]\n",
        "\n",
        "    return L, U\n",
        "\n",
        "# Testable example:\n",
        "A = np.array([[2, -1, -2],\n",
        "              [-4, 6, 3],\n",
        "              [-4, -2, 8]])\n",
        "\n",
        "L, U = lu_decomposition(A)\n",
        "print(\"Matrix L:\")\n",
        "print(L)\n",
        "print(\"Matrix U:\")\n",
        "print(U)\n",
        "\n",
        "# Verify that A = L * U\n",
        "A_reconstructed = np.dot(L, U)\n",
        "print(\"Reconstructed Matrix A:\")\n",
        "print(A_reconstructed)"
      ]
    },
    {
      "cell_type": "code",
      "source": [
        "# example:\n",
        "A_advanced = np.array([[4, 3, 2],\n",
        "                       [6, 3, 2],\n",
        "                       [2, 1, 3]])\n",
        "\n",
        "L_advanced, U_advanced = lu_decomposition(A_advanced)\n",
        "print(\"Advanced Matrix L:\")\n",
        "print(L_advanced)\n",
        "print(\"Advanced Matrix U:\")\n",
        "print(U_advanced)\n",
        "\n",
        "# Verify that A_advanced = L_advanced * U_advanced\n",
        "A_advanced_reconstructed = np.dot(L_advanced, U_advanced)\n",
        "print(\"Reconstructed Advanced Matrix A:\")\n",
        "print(A_advanced_reconstructed)"
      ],
      "metadata": {
        "colab": {
          "base_uri": "https://localhost:8080/"
        },
        "id": "eelB9jQ1rL87",
        "outputId": "dc912639-57a5-4119-85f5-a829d8dc284d"
      },
      "execution_count": 2,
      "outputs": [
        {
          "output_type": "stream",
          "name": "stdout",
          "text": [
            "Advanced Matrix L:\n",
            "[[1.         0.         0.        ]\n",
            " [1.5        1.         0.        ]\n",
            " [0.5        0.33333333 1.        ]]\n",
            "Advanced Matrix U:\n",
            "[[ 4.          3.          2.        ]\n",
            " [ 0.         -1.5        -1.        ]\n",
            " [ 0.          0.          2.33333333]]\n",
            "Reconstructed Advanced Matrix A:\n",
            "[[4. 3. 2.]\n",
            " [6. 3. 2.]\n",
            " [2. 1. 3.]]\n"
          ]
        }
      ]
    }
  ]
}